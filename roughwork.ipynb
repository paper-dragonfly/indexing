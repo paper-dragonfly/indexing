{
 "cells": [
  {
   "cell_type": "code",
   "execution_count": 11,
   "metadata": {},
   "outputs": [],
   "source": [
    "from string import ascii_lowercase as alphabet_str\n",
    "\n",
    "def create_index_dict_3():\n",
    "    index_dict_1 = {}\n",
    "    for l in alphabet_str:\n",
    "        index_dict_1[l] = \"\"\n",
    "    index_dict_2 = {}\n",
    "    for l in alphabet_str:\n",
    "        index_dict_2[l] = index_dict_1\n",
    "    index_dict_3 = {}\n",
    "    for l in alphabet_str:\n",
    "        index_dict_3 = index_dict_2\n",
    "    return index_dict_2\n",
    "\n",
    "x = create_index_dict_3()\n"
   ]
  },
  {
   "cell_type": "code",
   "execution_count": 12,
   "metadata": {},
   "outputs": [
    {
     "name": "stdout",
     "output_type": "stream",
     "text": [
      "{'a': [1, 2, 3], 'b': ['cat']}\n"
     ]
    }
   ],
   "source": [
    "d = {\n",
    "    'a':[1,2],\n",
    "    'b':['cat']\n",
    "}\n",
    "\n",
    "d['a'].append(3)\n",
    "print(d)"
   ]
  },
  {
   "cell_type": "code",
   "execution_count": 33,
   "metadata": {},
   "outputs": [
    {
     "name": "stdout",
     "output_type": "stream",
     "text": [
      "{'a': 0}\n",
      "defaultdict(<class 'list'>, {'a': ['a'], 'b': ['bad'], 'h': ['house']})\n",
      "defaultdict(<class 'list'>, {'a': ['a'], 'b': ['bad', defaultdict(<class 'list'>, {'a': ['bad']})], 'h': ['house']})\n"
     ]
    },
    {
     "ename": "TypeError",
     "evalue": "list indices must be integers or slices, not str",
     "output_type": "error",
     "traceback": [
      "\u001b[0;31m---------------------------------------------------------------------------\u001b[0m",
      "\u001b[0;31mTypeError\u001b[0m                                 Traceback (most recent call last)",
      "\u001b[1;32m/Users/katcha/NiCode_Academy/miscellaneous_projects/Index_creation/roughwork.ipynb Cell 3'\u001b[0m in \u001b[0;36m<module>\u001b[0;34m\u001b[0m\n\u001b[1;32m     <a href='vscode-notebook-cell:/Users/katcha/NiCode_Academy/miscellaneous_projects/Index_creation/roughwork.ipynb#ch0000002?line=16'>17</a>\u001b[0m \u001b[39mprint\u001b[39m(ddict)\n\u001b[1;32m     <a href='vscode-notebook-cell:/Users/katcha/NiCode_Academy/miscellaneous_projects/Index_creation/roughwork.ipynb#ch0000002?line=18'>19</a>\u001b[0m idict1 \u001b[39m=\u001b[39m defaultdict(\u001b[39mlist\u001b[39m)\n\u001b[0;32m---> <a href='vscode-notebook-cell:/Users/katcha/NiCode_Academy/miscellaneous_projects/Index_creation/roughwork.ipynb#ch0000002?line=20'>21</a>\u001b[0m \u001b[39mprint\u001b[39m(ddict[\u001b[39m'\u001b[39;49m\u001b[39mb\u001b[39;49m\u001b[39m'\u001b[39;49m][\u001b[39m'\u001b[39;49m\u001b[39ma\u001b[39;49m\u001b[39m'\u001b[39;49m])\n",
      "\u001b[0;31mTypeError\u001b[0m: list indices must be integers or slices, not str"
     ]
    }
   ],
   "source": [
    "from collections import defaultdict\n",
    "import copy\n",
    "\n",
    "d = {'a':0}\n",
    "print(d)\n",
    "\n",
    "wl = ['a','bad','house']\n",
    "ddict = defaultdict(list)\n",
    "for w in wl:\n",
    "    ddict[w[0]].append(w)\n",
    "print(ddict)\n",
    "\n",
    "dd2 = defaultdict(list)\n",
    "dd2['a'].append('bad')\n",
    "\n",
    "ddict['b'].append(dd2)\n",
    "print(ddict)\n",
    "\n",
    "idict1 = defaultdict(list)\n",
    "\n",
    "print(ddict['b']['a'])\n",
    "# print('idict', idict)\n",
    "# idict1 = copy.deepcopy(idict) \n",
    "\n",
    "# # print(idict['h'])\n",
    "\n",
    "# for w in wl:\n",
    "#     idict[w[0]].append(defaultdict(list))\n",
    "# print(idict)\n",
    "# idict\n"
   ]
  },
  {
   "cell_type": "code",
   "execution_count": 61,
   "metadata": {},
   "outputs": [
    {
     "name": "stdout",
     "output_type": "stream",
     "text": [
      "defaultdict(<class 'list'>, {'i': ['i', {'n': ['in']}], 'a': [{'m': ['am']}, 'a'], 'b': [{'a': ['bad']}], 'h': [{'o': ['house']}]})\n"
     ]
    }
   ],
   "source": [
    "from collections import defaultdict\n",
    "import copy\n",
    "\n",
    "wl = ['a','aa','arc','ardvarc','ar','add','cars']\n",
    "\n",
    "gd = {\n",
    "    'a': [\"a\",{\n",
    "            'a': ['aa'],\n",
    "            'r':['arc','ardvarc','ar'],\n",
    "            'd': ['add']\n",
    "            }],\n",
    "    'c': [{'a': ['cars']}]\n",
    "{k:[*,{k:list}]}\n",
    "\n",
    "\n",
    "dd = defaultdict(list)\n",
    "\n",
    "for w in wl:\n",
    "    if len(w) == 1:\n",
    "        dd[w[0]].append(w)\n",
    "    elif len(w) > 1:\n",
    "        dd[w[0]].append({f'{w[1]}':[w]})\n",
    "    # else:\n",
    "    #     dd[w[0]]\n",
    "        # dd[w[0]][defaultdict(list)[w[1]]].append(w)\n",
    "print(dd)\n",
    "\n",
    "\n",
    "# print(dd['b'][0]['a'])\n",
    "\n"
   ]
  },
  {
   "cell_type": "code",
   "execution_count": 71,
   "metadata": {},
   "outputs": [
    {
     "ename": "KeyboardInterrupt",
     "evalue": "",
     "output_type": "error",
     "traceback": [
      "\u001b[0;31m---------------------------------------------------------------------------\u001b[0m",
      "\u001b[0;31mKeyboardInterrupt\u001b[0m                         Traceback (most recent call last)",
      "\u001b[1;32m/Users/katcha/NiCode_Academy/miscellaneous_projects/Index_creation/roughwork.ipynb Cell 5'\u001b[0m in \u001b[0;36m<module>\u001b[0;34m\u001b[0m\n\u001b[1;32m     <a href='vscode-notebook-cell:/Users/katcha/NiCode_Academy/miscellaneous_projects/Index_creation/roughwork.ipynb#ch0000004?line=22'>23</a>\u001b[0m     \u001b[39mwhile\u001b[39;00m c \u001b[39m<\u001b[39m wlen:\n\u001b[1;32m     <a href='vscode-notebook-cell:/Users/katcha/NiCode_Academy/miscellaneous_projects/Index_creation/roughwork.ipynb#ch0000004?line=23'>24</a>\u001b[0m         idict[w[\u001b[39m-\u001b[39m\u001b[39m1\u001b[39m]] \u001b[39m=\u001b[39m w \n\u001b[0;32m---> <a href='vscode-notebook-cell:/Users/katcha/NiCode_Academy/miscellaneous_projects/Index_creation/roughwork.ipynb#ch0000004?line=25'>26</a>\u001b[0m make_dict(wl)\n",
      "\u001b[1;32m/Users/katcha/NiCode_Academy/miscellaneous_projects/Index_creation/roughwork.ipynb Cell 5'\u001b[0m in \u001b[0;36mmake_dict\u001b[0;34m(wl)\u001b[0m\n\u001b[1;32m     <a href='vscode-notebook-cell:/Users/katcha/NiCode_Academy/miscellaneous_projects/Index_creation/roughwork.ipynb#ch0000004?line=21'>22</a>\u001b[0m     wlen \u001b[39m=\u001b[39m \u001b[39mlen\u001b[39m(w) \n\u001b[1;32m     <a href='vscode-notebook-cell:/Users/katcha/NiCode_Academy/miscellaneous_projects/Index_creation/roughwork.ipynb#ch0000004?line=22'>23</a>\u001b[0m \u001b[39mwhile\u001b[39;00m c \u001b[39m<\u001b[39m wlen:\n\u001b[0;32m---> <a href='vscode-notebook-cell:/Users/katcha/NiCode_Academy/miscellaneous_projects/Index_creation/roughwork.ipynb#ch0000004?line=23'>24</a>\u001b[0m     idict[w[\u001b[39m-\u001b[39;49m\u001b[39m1\u001b[39;49m]] \u001b[39m=\u001b[39m w\n",
      "\u001b[0;31mKeyboardInterrupt\u001b[0m: "
     ]
    }
   ],
   "source": [
    "from collections import defaultdict\n",
    "import copy\n",
    "\n",
    "wl = ['aa','arc','ardvarc','ar','add','cars']\n",
    "\n",
    "gd = {\n",
    "    'a': [\"a\",{\n",
    "            'a': ['aa'],\n",
    "            'r':['arc','ardvarc','ar'],\n",
    "            'd': ['add']\n",
    "            }],\n",
    "    'c': [{'a': ['cars']}]}\n",
    "\n",
    "# {k:[*,{k:list}]}\n",
    "\n",
    "d = {}\n",
    "d1 {'c':{}}\n",
    "wl = ['a','bad','house']\n",
    "\n",
    "def create_sub_dict(d,wrd):\n",
    "     \n",
    "    dict['c']['a']['t']['t']\n",
    "        c+=1\n",
    "\n",
    "make_dict(wl) \n",
    " \n"
   ]
  },
  {
   "cell_type": "code",
   "execution_count": null,
   "metadata": {},
   "outputs": [],
   "source": [
    "string = 'the blue cat'\n",
    "splitted = string.split()"
   ]
  },
  {
   "cell_type": "code",
   "execution_count": 116,
   "metadata": {},
   "outputs": [
    {
     "name": "stdout",
     "output_type": "stream",
     "text": [
      "the\n",
      "black\n",
      "cat\n",
      "blue\n"
     ]
    }
   ],
   "source": [
    "l = ['the', 'blue', 'black', 'cat']\n",
    "s = set(l) \n",
    "for w in s:\n",
    "    print(w)\n",
    "\n",
    "words = 'a ab abc ac dab dac dabb'\n",
    "\n",
    "INDEX  {\n",
    "    'a': {'b': \n",
    "            {'c': {}}, \n",
    "          'c': {}}, \n",
    "    'd': {'a': \n",
    "         {'b': {'b': {}}, \n",
    "        'c': {}}}}"
   ]
  },
  {
   "cell_type": "code",
   "execution_count": 140,
   "metadata": {},
   "outputs": [
    {
     "name": "stdout",
     "output_type": "stream",
     "text": [
      "{'h': 5}\n",
      "[[1, 2], 2] [[1, 2], 2, 3]\n"
     ]
    },
    {
     "data": {
      "text/plain": [
       "1"
      ]
     },
     "execution_count": 140,
     "metadata": {},
     "output_type": "execute_result"
    }
   ],
   "source": [
    "d = {'c': {'a': {}}}\n",
    "f = {}\n",
    "f['h'] = 5\n",
    "print(f)\n",
    "\n",
    "import copy\n",
    "\n",
    "l = [[1,2],2,3]\n",
    "lc = copy.deepcopy(l)\n",
    "l.pop()\n",
    "print(l,lc)\n",
    "\n",
    "x = ['b','e']\n",
    "y = \"\"\n",
    "for l in x:\n",
    "    y+=l\n",
    "y\n",
    "\n",
    "dd = {'b': {'a': {'c': {'k': {'idx': 1}}}}}\n",
    "dd['b']['a']['c']['k']['idx']\n",
    "\n"
   ]
  }
 ],
 "metadata": {
  "interpreter": {
   "hash": "4958416e6a983190c29994a2acc01cbfac5801240f55e1c2efdc6a5adb47ff9d"
  },
  "kernelspec": {
   "display_name": "Python 3.9.6 ('lpthw')",
   "language": "python",
   "name": "python3"
  },
  "language_info": {
   "codemirror_mode": {
    "name": "ipython",
    "version": 3
   },
   "file_extension": ".py",
   "mimetype": "text/x-python",
   "name": "python",
   "nbconvert_exporter": "python",
   "pygments_lexer": "ipython3",
   "version": "3.9.6"
  },
  "orig_nbformat": 4
 },
 "nbformat": 4,
 "nbformat_minor": 2
}
